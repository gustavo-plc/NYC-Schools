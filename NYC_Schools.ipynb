{
  "nbformat": 4,
  "nbformat_minor": 0,
  "metadata": {
    "colab": {
      "provenance": [],
      "mount_file_id": "1MMx8ezVjmpCxTR3c1Qu1FAmnw6KUzFZV",
      "authorship_tag": "ABX9TyNJJzDAMsZkZwucLwrK4Q0n"
    },
    "kernelspec": {
      "name": "python3",
      "display_name": "Python 3"
    },
    "language_info": {
      "name": "python"
    }
  },
  "cells": [
    {
      "cell_type": "markdown",
      "source": [
        "NYC-Schools"
      ],
      "metadata": {
        "id": "YiEkhExIJUdY"
      }
    }
  ]
}