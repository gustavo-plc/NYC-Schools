{
  "nbformat": 4,
  "nbformat_minor": 0,
  "metadata": {
    "colab": {
      "provenance": [],
      "mount_file_id": "1MMx8ezVjmpCxTR3c1Qu1FAmnw6KUzFZV",
      "authorship_tag": "ABX9TyNAHydXN++rFELML1hMi/bL",
      "include_colab_link": true
    },
    "kernelspec": {
      "name": "python3",
      "display_name": "Python 3"
    },
    "language_info": {
      "name": "python"
    }
  },
  "cells": [
    {
      "cell_type": "markdown",
      "metadata": {
        "id": "view-in-github",
        "colab_type": "text"
      },
      "source": [
        "<a href=\"https://colab.research.google.com/github/gustavo-plc/NYC-Schools/blob/main/NYC_Schools.ipynb\" target=\"_parent\"><img src=\"https://colab.research.google.com/assets/colab-badge.svg\" alt=\"Open In Colab\"/></a>"
      ]
    },
    {
      "cell_type": "markdown",
      "source": [
        "Exploring NYC Public School Test Result Scores"
      ],
      "metadata": {
        "id": "YiEkhExIJUdY"
      }
    },
    {
      "cell_type": "markdown",
      "source": [
        "### **Importing and knowing the data**"
      ],
      "metadata": {
        "id": "IwvTVBCmrSlo"
      }
    },
    {
      "cell_type": "code",
      "source": [
        "#importing packages\n",
        "\n",
        "import pandas as pd\n",
        "\n",
        "# defining file path\n",
        "path = \"/content/drive/MyDrive/Colab Notebooks/NYC-Schools/schools.csv\"\n",
        "\n",
        "# reading information from a csv file and assigning as a dataframe to a variable\n",
        "schools = pd.read_csv(path)\n",
        "\n",
        "# DataFrame preview\n",
        "print(schools.head())\n",
        "print(schools.info())"
      ],
      "metadata": {
        "colab": {
          "base_uri": "https://localhost:8080/"
        },
        "id": "HpNKm4OfLNdN",
        "outputId": "d763824b-ef58-4730-d3ea-8eeae358c7f5"
      },
      "execution_count": 8,
      "outputs": [
        {
          "output_type": "stream",
          "name": "stdout",
          "text": [
            "                                         school_name    borough building_code  \\\n",
            "0  New Explorations into Science, Technology and ...  Manhattan          M022   \n",
            "1                               Essex Street Academy  Manhattan          M445   \n",
            "2                       Lower Manhattan Arts Academy  Manhattan          M445   \n",
            "3    High School for Dual Language and Asian Studies  Manhattan          M445   \n",
            "4      Henry Street School for International Studies  Manhattan          M056   \n",
            "\n",
            "   average_math  average_reading  average_writing  percent_tested  \n",
            "0           657              601              601             NaN  \n",
            "1           395              411              387            78.9  \n",
            "2           418              428              415            65.1  \n",
            "3           613              453              463            95.9  \n",
            "4           410              406              381            59.7  \n",
            "<class 'pandas.core.frame.DataFrame'>\n",
            "RangeIndex: 375 entries, 0 to 374\n",
            "Data columns (total 7 columns):\n",
            " #   Column           Non-Null Count  Dtype  \n",
            "---  ------           --------------  -----  \n",
            " 0   school_name      375 non-null    object \n",
            " 1   borough          375 non-null    object \n",
            " 2   building_code    375 non-null    object \n",
            " 3   average_math     375 non-null    int64  \n",
            " 4   average_reading  375 non-null    int64  \n",
            " 5   average_writing  375 non-null    int64  \n",
            " 6   percent_tested   355 non-null    float64\n",
            "dtypes: float64(1), int64(3), object(3)\n",
            "memory usage: 20.6+ KB\n",
            "None\n"
          ]
        }
      ]
    },
    {
      "cell_type": "markdown",
      "source": [
        "### **FIRST QUESTION: Which NYC schools have the best math results?**"
      ],
      "metadata": {
        "id": "x7cF92fNrbfv"
      }
    },
    {
      "cell_type": "markdown",
      "source": [
        "STEPS TO CALCULATE THE ANSWER"
      ],
      "metadata": {
        "id": "-TpFXN_StWt3"
      }
    },
    {
      "cell_type": "markdown",
      "source": [
        "\n",
        "\n",
        "1.   Calculate the threshold that defines the best math results\n",
        "2.   Subset the Data Frame based on the calculated threshold and show school_name and average_math, the latter sorted in descending order.\n",
        "3.   Assign this result to best_math_schools.\n",
        "4.   Print the result\n",
        "\n",
        "Through data analysis tools, it was possible to select the schools that match the constraints and sort them in descending order.\n"
      ],
      "metadata": {
        "id": "mFxPRz4Gr4Lh"
      }
    },
    {
      "cell_type": "code",
      "source": [
        "# DEFINITION: The best math results are at least 80% of the maximum possible\n",
        "# score of 800 for math.\n",
        "\n",
        "threshold = 0.8 * 800\n",
        "\n",
        "best_math_schools = schools.loc[schools['average_math'] >= threshold,['school_name', 'average_math']].sort_values\n",
        " (by = 'average_math', ascending = False)\n",
        "\n",
        "print(best_math_schools)"
      ],
      "metadata": {
        "colab": {
          "base_uri": "https://localhost:8080/"
        },
        "id": "k7-pdRcUraey",
        "outputId": "494c8d84-e0b3-4ddc-deab-45feb614ab51"
      },
      "execution_count": 17,
      "outputs": [
        {
          "output_type": "stream",
          "name": "stdout",
          "text": [
            "                                           school_name  average_math\n",
            "88                              Stuyvesant High School           754\n",
            "170                       Bronx High School of Science           714\n",
            "93                 Staten Island Technical High School           711\n",
            "365  Queens High School for the Sciences at York Co...           701\n",
            "68   High School for Mathematics, Science, and Engi...           683\n",
            "280                     Brooklyn Technical High School           682\n",
            "333                        Townsend Harris High School           680\n",
            "174  High School of American Studies at Lehman College           669\n",
            "0    New Explorations into Science, Technology and ...           657\n",
            "45                       Eleanor Roosevelt High School           641\n"
          ]
        }
      ]
    }
  ]
}